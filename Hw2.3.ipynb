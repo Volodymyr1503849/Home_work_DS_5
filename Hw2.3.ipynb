{
 "cells": [
  {
   "cell_type": "code",
   "execution_count": 167,
   "metadata": {},
   "outputs": [],
   "source": [
    "import pandas as pd\n",
    "import numpy as np\n",
    "import matplotlib.pyplot as plt"
   ]
  },
  {
   "cell_type": "code",
   "execution_count": 168,
   "metadata": {},
   "outputs": [],
   "source": [
    "%matplotlib inline"
   ]
  },
  {
   "cell_type": "code",
   "execution_count": 169,
   "metadata": {},
   "outputs": [],
   "source": [
    "table = pd.read_csv(\"bestsellers with categories.csv\")"
   ]
  },
  {
   "cell_type": "code",
   "execution_count": 170,
   "metadata": {},
   "outputs": [
    {
     "name": "stdout",
     "output_type": "stream",
     "text": [
      "                                                Name  \\\n",
      "0                      10-Day Green Smoothie Cleanse   \n",
      "1                                  11/22/63: A Novel   \n",
      "2            12 Rules for Life: An Antidote to Chaos   \n",
      "3                             1984 (Signet Classics)   \n",
      "4  5,000 Awesome Facts (About Everything!) (Natio...   \n",
      "\n",
      "                     Author  User Rating  Reviews  Price  Year        Genre  \n",
      "0                  JJ Smith          4.7    17350      8  2016  Non Fiction  \n",
      "1              Stephen King          4.6     2052     22  2011      Fiction  \n",
      "2        Jordan B. Peterson          4.7    18979     15  2018  Non Fiction  \n",
      "3             George Orwell          4.7    21424      6  2017      Fiction  \n",
      "4  National Geographic Kids          4.8     7665     12  2019  Non Fiction  \n"
     ]
    }
   ],
   "source": [
    "print(table.head())"
   ]
  },
  {
   "cell_type": "code",
   "execution_count": 171,
   "metadata": {},
   "outputs": [
    {
     "name": "stdout",
     "output_type": "stream",
     "text": [
      "(550, 7)\n"
     ]
    }
   ],
   "source": [
    "print(table.shape)"
   ]
  },
  {
   "cell_type": "markdown",
   "metadata": {},
   "source": [
    "Про скільки книг зберігає дані датасет?\n",
    "Датасет зберігає дані про 550 книг!"
   ]
  },
  {
   "cell_type": "code",
   "execution_count": 172,
   "metadata": {},
   "outputs": [],
   "source": [
    "table.columns = ['name', 'author', 'user_rating', 'reviews', 'price', 'year', 'genre']"
   ]
  },
  {
   "cell_type": "code",
   "execution_count": 173,
   "metadata": {},
   "outputs": [
    {
     "name": "stdout",
     "output_type": "stream",
     "text": [
      "name           0\n",
      "author         0\n",
      "user_rating    0\n",
      "reviews        0\n",
      "price          0\n",
      "year           0\n",
      "genre          0\n",
      "dtype: int64\n"
     ]
    }
   ],
   "source": [
    "sum = table.isna().sum()\n",
    "print(sum)"
   ]
  },
  {
   "cell_type": "markdown",
   "metadata": {},
   "source": [
    "Відповідь: Чи є в якихось змінних пропуски? (Так / ні).\n",
    "Ні!"
   ]
  },
  {
   "cell_type": "code",
   "execution_count": 174,
   "metadata": {},
   "outputs": [
    {
     "name": "stdout",
     "output_type": "stream",
     "text": [
      "['Non Fiction' 'Fiction']\n"
     ]
    }
   ],
   "source": [
    "print(table[\"genre\"].unique())"
   ]
  },
  {
   "cell_type": "markdown",
   "metadata": {},
   "source": [
    "Відповідь: Які є унікальні жанри?Унікальних жанрів немає!"
   ]
  },
  {
   "cell_type": "code",
   "execution_count": 175,
   "metadata": {},
   "outputs": [
    {
     "data": {
      "image/png": "[encoded data removed]",
      "text/plain": [
       "<Figure size 640x480 with 1 Axes>"
      ]
     },
     "metadata": {},
     "output_type": "display_data"
    },
    {
     "name": "stdout",
     "output_type": "stream",
     "text": [
      "0\n",
      "105\n",
      "13.1\n",
      "11.0\n"
     ]
    }
   ],
   "source": [
    "table['price'].plot(kind='hist', bins=5, alpha=0.75, color='blue', edgecolor='black')\n",
    "plt.title('Розподіл цін')\n",
    "plt.xlabel('Ціна')\n",
    "plt.ylabel('Кількість книг')\n",
    "plt.show()\n",
    "print(table['price'].min())\n",
    "print(table['price'].max())\n",
    "print(table['price'].mean())\n",
    "print(table['price'].median())"
   ]
  },
  {
   "cell_type": "markdown",
   "metadata": {},
   "source": [
    "Відповідь: Максимальна ціна? 105$\n",
    "Відповідь: Мінімальна ціна? 0$\n",
    "Відповідь: Середня ціна? 13.1$\n",
    "Відповідь: Медіанна ціна? 11.0$"
   ]
  },
  {
   "cell_type": "code",
   "execution_count": 176,
   "metadata": {},
   "outputs": [
    {
     "name": "stdout",
     "output_type": "stream",
     "text": [
      "4.9\n"
     ]
    }
   ],
   "source": [
    "print(table[\"user_rating\"].max())"
   ]
  },
  {
   "cell_type": "markdown",
   "metadata": {},
   "source": [
    "Відповідь: Який рейтинг у датасеті найвищий? Відповідь: 4.9"
   ]
  },
  {
   "cell_type": "code",
   "execution_count": 177,
   "metadata": {},
   "outputs": [
    {
     "name": "stdout",
     "output_type": "stream",
     "text": [
      "(52, 7)\n"
     ]
    }
   ],
   "source": [
    "print(table[table[\"user_rating\"] == 4.9].shape)"
   ]
  },
  {
   "cell_type": "markdown",
   "metadata": {},
   "source": [
    "Відповідь: Скільки книг мають такий рейтинг? Відповідь: 52 книги!"
   ]
  },
  {
   "cell_type": "code",
   "execution_count": 178,
   "metadata": {},
   "outputs": [
    {
     "name": "stdout",
     "output_type": "stream",
     "text": [
      "                        name       author  user_rating  reviews  price  year  \\\n",
      "534  Where the Crawdads Sing  Delia Owens          4.8    87841     15  2019   \n",
      "\n",
      "       genre  \n",
      "534  Fiction  \n"
     ]
    }
   ],
   "source": [
    "print(table.nlargest(1,\"reviews\"))"
   ]
  },
  {
   "cell_type": "markdown",
   "metadata": {},
   "source": [
    "Відповідь: Яка книга має найбільше відгуків? Відповідь:Where the Crawdads Sing"
   ]
  },
  {
   "cell_type": "code",
   "execution_count": 179,
   "metadata": {},
   "outputs": [
    {
     "name": "stdout",
     "output_type": "stream",
     "text": [
      "                                                  name  \\\n",
      "277  Publication Manual of the American Psychologic...   \n",
      "\n",
      "                                 author  user_rating  reviews  price  year  \\\n",
      "277  American Psychological Association          4.5     8580     46  2015   \n",
      "\n",
      "           genre  \n",
      "277  Non Fiction  \n"
     ]
    }
   ],
   "source": [
    "print(table[table[\"year\"]==2015].nlargest(1,\"price\"))"
   ]
  },
  {
   "cell_type": "markdown",
   "metadata": {},
   "source": [
    "Відповідь: З тих книг, що потрапили до Топ-50 у 2015 році, яка книга найдорожча (можна використати проміжний датафрейм)? Відповідь:Publication Manual of the American Psychologic..."
   ]
  },
  {
   "cell_type": "code",
   "execution_count": 180,
   "metadata": {},
   "outputs": [
    {
     "name": "stdout",
     "output_type": "stream",
     "text": [
      "(20, 7)\n"
     ]
    }
   ],
   "source": [
    "print(table[(table['genre'] == 'Fiction') & (table['year'] == 2010)].shape)"
   ]
  },
  {
   "cell_type": "markdown",
   "metadata": {},
   "source": [
    "Відповідь: Скільки книг жанру Fiction потрапили до Топ-50 у 2010 році (використовуйте &)? Відповідь:20"
   ]
  },
  {
   "cell_type": "code",
   "execution_count": 181,
   "metadata": {},
   "outputs": [
    {
     "name": "stdout",
     "output_type": "stream",
     "text": [
      "(1, 7)\n"
     ]
    }
   ],
   "source": [
    "print(table[(table['user_rating'] == 4.9) & (table['year'].isin([2010, 2011]))].shape)"
   ]
  },
  {
   "cell_type": "markdown",
   "metadata": {},
   "source": [
    "Скільки книг з рейтингом 4.9 потрапило до рейтингу у 2010 та 2011 роках (використовуйте | або функцію isin)? Відповідь:Одна книга"
   ]
  },
  {
   "cell_type": "code",
   "execution_count": 182,
   "metadata": {},
   "outputs": [
    {
     "name": "stdout",
     "output_type": "stream",
     "text": [
      "                                                  name              author  \\\n",
      "507                              To Kill a Mockingbird          Harper Lee   \n",
      "54   Creative Haven Creative Cats Coloring Book (Ad...     Marjorie Sarnat   \n",
      "206                         Knock-Knock Jokes for Kids         Rob Elliott   \n",
      "111                                    First 100 Words        Roger Priddy   \n",
      "210                      Laugh-Out-Loud Jokes for Kids         Rob Elliott   \n",
      "123                               Giraffes Can't Dance       Giles Andreae   \n",
      "55   Creative Haven Owls Coloring Book (Adult Color...     Marjorie Sarnat   \n",
      "63                      Dear Zoo: A Lift-the-Flap Book        Rod Campbell   \n",
      "224                                   Love You Forever       Robert Munsch   \n",
      "478                        The Very Hungry Caterpillar          Eric Carle   \n",
      "89   Dover Creative Haven Art Nouveau Animal Design...         Marty Noble   \n",
      "201  Killing Reagan: The Violent Assault That Chang...       Bill O'Reilly   \n",
      "28                        Baby Touch and Feel: Animals                  DK   \n",
      "17      Adult Coloring Book: Stress Relieving Patterns  Blue Star Coloring   \n",
      "376  The Four Agreements: A Practical Guide to Pers...     Don Miguel Ruiz   \n",
      "16   Adult Coloring Book: Stress Relieving Animal D...  Blue Star Coloring   \n",
      "253              Old School (Diary of a Wimpy Kid #10)         Jeff Kinney   \n",
      "\n",
      "     user_rating  reviews  price  year        genre  \n",
      "507          4.8    26234      0  2015      Fiction  \n",
      "54           4.8     4022      4  2015  Non Fiction  \n",
      "206          4.5     3673      4  2015  Non Fiction  \n",
      "111          4.7    17323      4  2015  Non Fiction  \n",
      "210          4.6     6990      4  2015  Non Fiction  \n",
      "123          4.8    14038      4  2015      Fiction  \n",
      "55           4.8     3871      5  2015  Non Fiction  \n",
      "63           4.8    10922      5  2015      Fiction  \n",
      "224          4.8    18613      5  2015      Fiction  \n",
      "478          4.9    19546      5  2015      Fiction  \n",
      "89           4.6     2134      5  2015  Non Fiction  \n",
      "201          4.6     5235      5  2015  Non Fiction  \n",
      "28           4.6     5360      5  2015  Non Fiction  \n",
      "17           4.4     2951      6  2015  Non Fiction  \n",
      "376          4.7    23308      6  2015  Non Fiction  \n",
      "16           4.6     2925      6  2015  Non Fiction  \n",
      "253          4.8     6169      7  2015      Fiction  \n"
     ]
    }
   ],
   "source": [
    "print(table[(table[\"year\"]==2015) & (table[\"price\"] < 8 )].sort_values(by=\"price\"))"
   ]
  },
  {
   "cell_type": "markdown",
   "metadata": {},
   "source": [
    "Відповідь: Яка книга остання у відсортованому списку? Відповідь:Old School (Diary of a Wimpy Kid #10)"
   ]
  },
  {
   "cell_type": "code",
   "execution_count": 183,
   "metadata": {},
   "outputs": [
    {
     "name": "stdout",
     "output_type": "stream",
     "text": [
      "            price     \n",
      "              min  max\n",
      "genre                 \n",
      "Fiction         0   82\n",
      "Non Fiction     0  105\n"
     ]
    }
   ],
   "source": [
    "group_fd = table.groupby(\"genre\").agg({\n",
    "    'price': ['min', 'max']})\n",
    "print(group_fd)"
   ]
  },
  {
   "cell_type": "markdown",
   "metadata": {},
   "source": [
    "Відповідь: Максимальна ціна для жанру Fiction: Відповідь 82$"
   ]
  },
  {
   "cell_type": "markdown",
   "metadata": {},
   "source": [
    "Відповідь: Мінімальна ціна для жанру Fiction: Відповідь 0$"
   ]
  },
  {
   "cell_type": "markdown",
   "metadata": {},
   "source": [
    "Відповідь: Максимальна ціна для жанру Non Fiction: Відповідь 105$"
   ]
  },
  {
   "cell_type": "markdown",
   "metadata": {},
   "source": [
    "Відповідь: Мінімальна ціна для жанру Non Fiction: Відповідь 0$"
   ]
  },
  {
   "cell_type": "code",
   "execution_count": 184,
   "metadata": {},
   "outputs": [
    {
     "name": "stdout",
     "output_type": "stream",
     "text": [
      "                                 author  book_count\n",
      "1                        Adam Gasiewski           1\n",
      "2                         Adam Mansbach           1\n",
      "3                             Adir Levy           1\n",
      "4            Admiral William H. McRaven           1\n",
      "6                            Alan Moore           1\n",
      "..                                  ...         ...\n",
      "11   American Psychological Association          10\n",
      "197                        Rick Riordan          11\n",
      "92                         Gary Chapman          11\n",
      "226                     Suzanne Collins          11\n",
      "120                         Jeff Kinney          12\n",
      "\n",
      "[248 rows x 2 columns]\n"
     ]
    }
   ],
   "source": [
    "book_count_by_author = table.groupby('author').agg({'name': 'count'}).reset_index().sort_values(by=\"name\")\n",
    "book_count_by_author.columns = ['author', 'book_count']\n",
    "print(book_count_by_author)"
   ]
  },
  {
   "cell_type": "markdown",
   "metadata": {},
   "source": [
    "Відповідь: Якої розмірності вийшла таблиця? Відповідь:248 рядків"
   ]
  },
  {
   "cell_type": "markdown",
   "metadata": {},
   "source": [
    "Відповідь: Який автор має найбільше книг? Відповідь: Jeff Kinney"
   ]
  },
  {
   "cell_type": "markdown",
   "metadata": {},
   "source": [
    "Відповідь: Скільки книг цього автора? Відповідь:12 книг"
   ]
  },
  {
   "cell_type": "code",
   "execution_count": 185,
   "metadata": {},
   "outputs": [
    {
     "name": "stdout",
     "output_type": "stream",
     "text": [
      "                author  reviews\n",
      "247       Zhi Gang Sha    128.5\n",
      "184  Peter A. Lillback    408.0\n",
      "79   Edward M. Kennedy    438.0\n",
      "132        Jon Stewart    440.0\n",
      "143   Larry Schweikart    460.0\n",
      "..                 ...      ...\n",
      "142     Kristin Hannah  49288.0\n",
      "100      Gillian Flynn  57271.0\n",
      "168     Michelle Obama  61133.0\n",
      "180      Paula Hawkins  79446.0\n",
      "68         Delia Owens  87841.0\n",
      "\n",
      "[248 rows x 2 columns]\n"
     ]
    }
   ],
   "source": [
    "book_count_by_author_1 = table.groupby('author').agg({'reviews': 'mean'}).reset_index().sort_values(by=\"reviews\")\n",
    "print(book_count_by_author_1)"
   ]
  },
  {
   "cell_type": "markdown",
   "metadata": {},
   "source": [
    "Відповідь: У якого автора середній рейтинг мінімальний? Відповідь:Zhi Gang Sha"
   ]
  },
  {
   "cell_type": "markdown",
   "metadata": {},
   "source": [
    "Відповідь: Який у цього автора середній рейтинг? Відповідь: 128.5"
   ]
  },
  {
   "cell_type": "code",
   "execution_count": 186,
   "metadata": {},
   "outputs": [
    {
     "name": "stdout",
     "output_type": "stream",
     "text": [
      "                                 author  book_count       reviews\n",
      "184                   Peter A. Lillback           1    408.000000\n",
      "79                    Edward M. Kennedy           1    438.000000\n",
      "132                         Jon Stewart           1    440.000000\n",
      "143                    Larry Schweikart           1    460.000000\n",
      "159                          Mark Twain           1    491.000000\n",
      "..                                  ...         ...           ...\n",
      "11   American Psychological Association          10   8580.000000\n",
      "197                        Rick Riordan          11   4015.363636\n",
      "92                         Gary Chapman          11  13268.909091\n",
      "226                     Suzanne Collins          11  25302.636364\n",
      "120                         Jeff Kinney          12   5623.500000\n",
      "\n",
      "[248 rows x 3 columns]\n"
     ]
    }
   ],
   "source": [
    "result_table = pd.concat([book_count_by_author,book_count_by_author_1[\"reviews\"]],axis=1)\n",
    "print(result_table.sort_values(by=[\"book_count\",\"reviews\"]))\n"
   ]
  },
  {
   "cell_type": "markdown",
   "metadata": {},
   "source": [
    "Відповідь: Який автор перший у списку? Peter A. Lillback"
   ]
  },
  {
   "cell_type": "code",
   "execution_count": 187,
   "metadata": {},
   "outputs": [
    {
     "data": {
      "image/png": "[encoded data removed]",
      "text/plain": [
       "<Figure size 800x800 with 1 Axes>"
      ]
     },
     "metadata": {},
     "output_type": "display_data"
    }
   ],
   "source": [
    "category_counts = table['genre'].value_counts()\n",
    "plt.figure(figsize=(8, 8))\n",
    "category_counts.plot(kind='pie', autopct='%1.1f%%', startangle=90)\n",
    "plt.title('Розподіл жанрів')\n",
    "plt.ylabel('')\n",
    "plt.show()"
   ]
  },
  {
   "cell_type": "code",
   "execution_count": 188,
   "metadata": {},
   "outputs": [
    {
     "data": {
      "image/png": "[encoded data removed]",
      "text/plain": [
       "<Figure size 1000x600 with 1 Axes>"
      ]
     },
     "metadata": {},
     "output_type": "display_data"
    }
   ],
   "source": [
    "plt.figure(figsize=(10, 6))\n",
    "table['price'].plot(kind='hist', bins=10, edgecolor='black')\n",
    "plt.title('Розподіл за цінами')\n",
    "plt.ylabel('Кількість книжок')\n",
    "plt.xlabel('Діапазон ціни')\n",
    "plt.show()"
   ]
  },
  {
   "cell_type": "code",
   "execution_count": 189,
   "metadata": {},
   "outputs": [
    {
     "data": {
      "image/png": "[encoded data removed]",
      "text/plain": [
       "<Figure size 1000x600 with 1 Axes>"
      ]
     },
     "metadata": {},
     "output_type": "display_data"
    }
   ],
   "source": [
    "plt.figure(figsize=(10, 6))\n",
    "table['user_rating'].plot(kind='hist', bins=15, edgecolor='black')\n",
    "plt.title('Розподіл за рейтингом')\n",
    "plt.ylabel('Кількість книжок ')\n",
    "plt.xlabel('Діапазон рейтингу')\n",
    "plt.show()"
   ]
  }
 ],
 "metadata": {
  "kernelspec": {
   "display_name": "Python 3",
   "language": "python",
   "name": "python3"
  },
  "language_info": {
   "codemirror_mode": {
    "name": "ipython",
    "version": 3
   },
   "file_extension": ".py",
   "mimetype": "text/x-python",
   "name": "python",
   "nbconvert_exporter": "python",
   "pygments_lexer": "ipython3",
   "version": "3.11.9"
  }
 },
 "nbformat": 4,
 "nbformat_minor": 2
}
